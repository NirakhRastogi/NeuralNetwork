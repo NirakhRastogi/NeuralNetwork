{
 "metadata": {
  "language_info": {
   "codemirror_mode": {
    "name": "ipython",
    "version": 3
   },
   "file_extension": ".py",
   "mimetype": "text/x-python",
   "name": "python",
   "nbconvert_exporter": "python",
   "pygments_lexer": "ipython3",
   "version": "3.8.3-final"
  },
  "orig_nbformat": 2,
  "kernelspec": {
   "name": "Python 3.8.3 64-bit ('base': conda)",
   "display_name": "Python 3.8.3 64-bit ('base': conda)",
   "metadata": {
    "interpreter": {
     "hash": "f03c17bd772517af95609f94a097dd9c39016231e7771d70591f6dc40f314f72"
    }
   }
  }
 },
 "nbformat": 4,
 "nbformat_minor": 2,
 "cells": [
  {
   "cell_type": "code",
   "execution_count": null,
   "metadata": {},
   "outputs": [],
   "source": [
    "import numpy as np\n",
    "import tensorflow as tf\n",
    "import matplotlib.pyplot as plt\n",
    "from tensorflow import keras as kr"
   ]
  },
  {
   "cell_type": "code",
   "execution_count": null,
   "metadata": {},
   "outputs": [],
   "source": [
    "fashion_df = tf.keras.datasets.fashion_mnist\n",
    "(train_x, train_label), (test_x, test_label) = fashion_df.load_data()"
   ]
  },
  {
   "cell_type": "code",
   "execution_count": null,
   "metadata": {},
   "outputs": [],
   "source": [
    "input = kr.Input(shape=(28,28,1), name=\"input\")\n",
    "l1 = kr.layers.Conv2D(filters=64, kernel_size=(3,3),padding=\"same\", activation=\"relu\", name=\"l1\", input_shape=(28,28))(input)\n",
    "# l2 = kr.layers.MaxPooling2D(pool_size=(2,2), name=\"l2\")(l1)\n",
    "l3 = kr.layers.Conv2D(filters=64, kernel_size=(3,3),padding=\"same\", activation=\"relu\")(l1)\n",
    "l4 = kr.layers.MaxPooling2D(pool_size=(2,2))(l3)\n",
    "f1 = kr.layers.Flatten(name=\"flatten\")(l4)\n",
    "l5 = kr.layers.Dense(64, activation=\"relu\")(f1)\n",
    "d1 = kr.layers.Dropout(0.5)(l5)\n",
    "l6 = kr.layers.Dense(10, activation=\"softmax\")(d1)"
   ]
  },
  {
   "cell_type": "code",
   "execution_count": null,
   "metadata": {},
   "outputs": [],
   "source": []
  },
  {
   "cell_type": "code",
   "execution_count": null,
   "metadata": {},
   "outputs": [],
   "source": [
    "model = kr.Model(inputs=input, outputs=l6)"
   ]
  },
  {
   "cell_type": "code",
   "execution_count": null,
   "metadata": {},
   "outputs": [],
   "source": [
    "model.compile(optimizer='adam', loss='sparse_categorical_crossentropy', metrics=['accuracy'])"
   ]
  },
  {
   "cell_type": "code",
   "execution_count": null,
   "metadata": {},
   "outputs": [],
   "source": [
    "train_hist = model.fit(x=train_x, y=train_label, epochs=10, verbose=1)"
   ]
  },
  {
   "cell_type": "code",
   "execution_count": null,
   "metadata": {},
   "outputs": [],
   "source": [
    "plt.figure()\n",
    "plt.plot(train_hist.history['loss'])\n",
    "plt.xlabel('epoch')\n",
    "plt.ylabel('loss')\n",
    "plt.show()\n",
    "\n",
    "plt.figure()\n",
    "plt.plot(train_hist.history['accuracy'])\n",
    "plt.xlabel('epoch')\n",
    "plt.ylabel('accuracy')\n",
    "plt.show()\n",
    "\n",
    "test_loss, test_accuracy = model.evaluate(x=test_x, y=test_label, verbose=0)\n",
    "print(test_loss, test_accuracy)"
   ]
  },
  {
   "cell_type": "code",
   "execution_count": null,
   "metadata": {},
   "outputs": [],
   "source": []
  }
 ]
}